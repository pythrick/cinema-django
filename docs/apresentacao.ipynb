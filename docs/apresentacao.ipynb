{
 "cells": [
  {
   "cell_type": "markdown",
   "metadata": {},
   "source": [
    "# Arquitetura de Regras de Negócio para Django"
   ]
  },
  {
   "cell_type": "markdown",
   "metadata": {},
   "source": [
    "## Views"
   ]
  },
  {
   "cell_type": "markdown",
   "metadata": {},
   "source": [
    "\"A view function, or view for short, is a Python function that takes a Web request and returns a Web response.\" [Link](https://docs.djangoproject.com/en/3.1/topics/http/views/#writing-views)"
   ]
  },
  {
   "cell_type": "markdown",
   "metadata": {},
   "source": [
    "## Signals"
   ]
  },
  {
   "cell_type": "markdown",
   "metadata": {},
   "source": [
    "- Servem para ações que devem **sempre**, **sempre**, **sempre** acontecer antes ou depois de uma operação no banco de dados. \n",
    "- Normalmente alguma outra ação que deva acontecer na mesma camada (banco de dados).\n",
    "- Qualquer outra coisa de outra camada/nível gera acoplamento, dificultando a implementação de testes e manutenção."
   ]
  },
  {
   "cell_type": "markdown",
   "metadata": {},
   "source": [
    "### Facedes (fachadas)"
   ]
  },
  {
   "cell_type": "markdown",
   "metadata": {},
   "source": [
    "- [Flask](https://github.com/pallets/flask)\n",
    "- [Django](https://github.com/django/django)\n",
    "- [Requests](https://github.com/psf/requests)"
   ]
  },
  {
   "cell_type": "markdown",
   "metadata": {},
   "source": [
    "- Criação de uma camada de isolamento que oculta/abstrai a organização interna da app.\n",
    "- O mundo externo só acessa os elementos da app através da fachada.\n",
    "- Se não alterarmos as assinaturas das funções, ganhamos a flexibilidade de poder alterar o conteúdo da app sem corrermos o risco de quebrar quem estiver se conectando na app.\n",
    "- Tudo tem um custo: aumento de complexidade **#trafeoff**\n",
    "- Não deve acessar fachadas de outras apps. (Se não, quebra-se o isolamento)\n",
    "- A fachada só deve acessar os elementos internos da app. \n"
   ]
  },
  {
   "cell_type": "markdown",
   "metadata": {},
   "source": [
    "### Usecases (casos de uso)"
   ]
  },
  {
   "cell_type": "markdown",
   "metadata": {},
   "source": [
    "- Módulo que temos a liberdade de acessar fachadas das apps para implementar as regras de negócio em alto nível"
   ]
  },
  {
   "cell_type": "markdown",
   "source": [
    "## Referências\n",
    "- [Arquitetura de regras de negócio para Django — Café com Python #025\n",
    "](https://www.youtube.com/watch?v=r1KdN1eK5o4)\n",
    "- [Arquitetura de regras de negócio para Django - Parte 2 — Café com Python #026\n",
    "](https://www.youtube.com/watch?v=UQxqCFDJnKk)\n"
   ],
   "metadata": {
    "collapsed": false,
    "pycharm": {
     "name": "#%% md\n"
    }
   }
  }
 ],
 "metadata": {
  "kernelspec": {
   "display_name": "Python 3",
   "language": "python",
   "name": "python3"
  },
  "language_info": {
   "codemirror_mode": {
    "name": "ipython",
    "version": 3
   },
   "file_extension": ".py",
   "mimetype": "text/x-python",
   "name": "python",
   "nbconvert_exporter": "python",
   "pygments_lexer": "ipython3",
   "version": "3.8.5"
  }
 },
 "nbformat": 4,
 "nbformat_minor": 4
}